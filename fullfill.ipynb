{
 "cells": [
  {
   "cell_type": "markdown",
   "id": "d2459df7-8f4c-4bfb-84c4-f72a1f2091e3",
   "metadata": {},
   "source": [
    "# FullFill\n",
    "\n",
    "This notebook attempts to scrape data from FullFill.\n",
    "\n",
    "## Imports"
   ]
  },
  {
   "cell_type": "code",
   "execution_count": 1,
   "id": "e345c388-321e-48bd-a7a6-c5366e574fda",
   "metadata": {},
   "outputs": [],
   "source": [
    "import requests as req\n",
    "from bs4 import BeautifulSoup\n",
    "from selenium import webdriver\n",
    "from selenium.webdriver.common.by import By\n",
    "from selenium.webdriver.support.ui import WebDriverWait\n",
    "from selenium.webdriver.support import expected_conditions as EC"
   ]
  },
  {
   "cell_type": "markdown",
   "id": "2c562a8b-dad7-4a0a-91b8-4f531a1e5940",
   "metadata": {},
   "source": [
    "## Setup"
   ]
  },
  {
   "cell_type": "code",
   "execution_count": 2,
   "id": "d8de916a-d872-44be-b3e0-c68542cd0109",
   "metadata": {},
   "outputs": [],
   "source": [
    "BASE_URL = \"https://fullfill.netlify.app/\""
   ]
  },
  {
   "cell_type": "markdown",
   "id": "6001e4af-12e9-4aea-8500-febbf994d443",
   "metadata": {},
   "source": [
    "## Initial attempt"
   ]
  },
  {
   "cell_type": "code",
   "execution_count": 3,
   "id": "7abaef4d-cf32-41aa-a99e-32e6c924e67a",
   "metadata": {},
   "outputs": [],
   "source": [
    "res = req.get(BASE_URL)"
   ]
  },
  {
   "cell_type": "code",
   "execution_count": 4,
   "id": "3ac0118b-ea4e-4ac7-a405-15ecb5ab6ebd",
   "metadata": {},
   "outputs": [],
   "source": [
    "soup = BeautifulSoup(res.content)"
   ]
  },
  {
   "cell_type": "code",
   "execution_count": 5,
   "id": "7f9a9817-eb62-4cb6-86f1-b8632352539c",
   "metadata": {},
   "outputs": [
    {
     "data": {
      "text/plain": [
       "<!DOCTYPE html>\n",
       "<html lang=\"en\"><head><meta charset=\"utf-8\"/><meta content=\"width=device-width,initial-scale=1\" name=\"viewport\"/><meta content=\"#000000\" name=\"theme-color\"/><meta content=\"FullFill is a platform for people who want to help prevent food poverty in the UK through supporting local food banks and others in their community.\" name=\"description\"/><link href=\"”/favicon.ico”\" icon”=\"\" rel=\"”shortcut\"/><link href=\"https://fonts.googleapis.com\" rel=\"preconnect\"/><link crossorigin=\"\" href=\"https://fonts.gstatic.com\" rel=\"preconnect\"/><link href=\"https://fonts.googleapis.com/css?family=Roboto:300,400,500,700&amp;display=swap\" rel=\"stylesheet\"><link href=\"https://fonts.googleapis.com/css2?family=Fredoka+One&amp;family=Pacifico&amp;family=Poppins&amp;display=swap\" rel=\"stylesheet\"/><link crossorigin=\"anonymous\" href=\"https://maxcdn.bootstrapcdn.com/bootstrap/4.3.1/css/bootstrap.min.css\" integrity=\"sha384-ggOyR0iXCbMQv3Xipma34MD+dH/1fQ784/j6cY/iJTQUOhcWr7x9JvoRxT2MZw1T\" rel=\"stylesheet\"><style>*{font-family:Roboto,sans-serif;margin:0}html{height:100%}body{min-height:100%}</style><title>FullFill</title><script defer=\"defer\" src=\"/static/js/main.95b0a98d.js\"></script><link href=\"/static/css/main.89710f82.css\" rel=\"stylesheet\"/></link></link></head><body><noscript>You need to enable JavaScript to run this app.</noscript><div id=\"root\"></div></body></html>"
      ]
     },
     "execution_count": 5,
     "metadata": {},
     "output_type": "execute_result"
    }
   ],
   "source": [
    "soup"
   ]
  },
  {
   "cell_type": "markdown",
   "id": "62ae7e1f-357d-4095-8ad8-aa9c0ea51c60",
   "metadata": {},
   "source": [
    "## Selenium"
   ]
  },
  {
   "cell_type": "code",
   "execution_count": 6,
   "id": "4c5fc86c-5e92-4804-8965-52fc4bbd103c",
   "metadata": {},
   "outputs": [
    {
     "name": "stderr",
     "output_type": "stream",
     "text": [
      "/var/folders/ks/wfdbct294sz30dfgq4nrfm5c0000gp/T/ipykernel_19593/3324797018.py:1: DeprecationWarning: executable_path has been deprecated, please pass in a Service object\n",
      "  driver = webdriver.Chrome(executable_path=\"./chromedriver\")\n"
     ]
    }
   ],
   "source": [
    "driver = webdriver.Chrome(executable_path=\"./chromedriver\")"
   ]
  },
  {
   "cell_type": "markdown",
   "id": "78fe56c4-5c8c-4e18-a4f8-70f7cb3f691a",
   "metadata": {},
   "source": [
    "### Login"
   ]
  },
  {
   "cell_type": "code",
   "execution_count": 7,
   "id": "e9a30d97-05a8-40e0-8e0a-308a66898b29",
   "metadata": {},
   "outputs": [],
   "source": [
    "driver.get(BASE_URL + \"login\")"
   ]
  },
  {
   "cell_type": "code",
   "execution_count": 8,
   "id": "cf1e2037-3e17-41b5-b066-c24fb6fc8815",
   "metadata": {},
   "outputs": [
    {
     "data": {
      "text/plain": [
       "True"
      ]
     },
     "execution_count": 8,
     "metadata": {},
     "output_type": "execute_result"
    }
   ],
   "source": [
    "driver.find_element(By.ID, \"email\").send_keys(\"test@test.com\")\n",
    "driver.find_element(By.ID, \"password\").send_keys(\"password\")\n",
    "driver.find_element(By.CSS_SELECTOR, \"#root > div > main > div > form > button\").click()\n",
    "\n",
    "selector = \".MuiIconButton-sizeMedium > h6:nth-child(2)\"\n",
    "\n",
    "WebDriverWait(driver, 10).until(EC.text_to_be_present_in_element((By.CSS_SELECTOR, selector), \"Hi test\"))"
   ]
  },
  {
   "cell_type": "markdown",
   "id": "93419a63-0718-4adb-b8d5-8a9b6a9c47b1",
   "metadata": {},
   "source": [
    "### Interact with recipes"
   ]
  },
  {
   "cell_type": "code",
   "execution_count": 19,
   "id": "173fe9e9-8fa9-4786-be1c-afb2b96ec541",
   "metadata": {},
   "outputs": [
    {
     "name": "stdout",
     "output_type": "stream",
     "text": [
      "favouriting finished\n",
      "favouriting finished\n",
      "favouriting finished\n",
      "favouriting finished\n",
      "favouriting finished\n",
      "favouriting finished\n",
      "favouriting finished\n",
      "favouriting finished\n",
      "favouriting finished\n",
      "favouriting finished\n",
      "favouriting finished\n",
      "favouriting finished\n",
      "favouriting finished\n",
      "favouriting finished\n",
      "favouriting finished\n",
      "favouriting finished\n",
      "favouriting finished\n"
     ]
    }
   ],
   "source": [
    "driver.get(\"https://fullfill.netlify.app/recipes\")\n",
    "\n",
    "WebDriverWait(driver, 10).until(EC.text_to_be_present_in_element((By.CSS_SELECTOR,\n",
    "                                                                  \"#root > div > div > div > h1\"), \"Recipe Finder\"))\n",
    "\n",
    "driver.find_element(By.XPATH, \"/html/body/div[1]/div/div/div/form/input\").clear()\n",
    "driver.find_element(By.XPATH, \"/html/body/div[1]/div/div/div/form/input\").send_keys(\"cake\")\n",
    "driver.find_element(By.XPATH, \"/html/body/div[1]/div/div/div/form/button\").click()\n",
    "\n",
    "for num in range(20):\n",
    "    try:\n",
    "        driver.find_element(By.XPATH, f'//*[@id=\"root\"]/div/div/div/div/div[{num}]/div/button/span[1]/input').click()\n",
    "    except:\n",
    "        print(\"favouriting finished\")"
   ]
  },
  {
   "cell_type": "code",
   "execution_count": null,
   "id": "fc1629bc-ba65-4502-bbce-d0ff361533bf",
   "metadata": {},
   "outputs": [],
   "source": []
  }
 ],
 "metadata": {
  "kernelspec": {
   "display_name": "scraping-start-WgqiHyey",
   "language": "python",
   "name": "scraping-start-wgqihyey"
  },
  "language_info": {
   "codemirror_mode": {
    "name": "ipython",
    "version": 3
   },
   "file_extension": ".py",
   "mimetype": "text/x-python",
   "name": "python",
   "nbconvert_exporter": "python",
   "pygments_lexer": "ipython3",
   "version": "3.10.3"
  }
 },
 "nbformat": 4,
 "nbformat_minor": 5
}
