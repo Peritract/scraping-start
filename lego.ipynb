{
 "cells": [
  {
   "cell_type": "markdown",
   "id": "e35e34d3-bf99-4cad-bd19-0e1d4abc5e70",
   "metadata": {},
   "source": [
    "# Lego scraping\n",
    "\n",
    "This notebook scrapes information on Lego sets and exports the data to a `.csv` file.\n",
    "\n",
    "## Imports"
   ]
  },
  {
   "cell_type": "code",
   "execution_count": 42,
   "id": "66536255-9256-4574-8794-513d449bbb4c",
   "metadata": {},
   "outputs": [],
   "source": [
    "import requests as req\n",
    "from bs4 import BeautifulSoup\n",
    "import pandas as pd\n",
    "from time import sleep"
   ]
  },
  {
   "cell_type": "markdown",
   "id": "6670fd1f-fcd5-4344-8f50-4a0133d0de2c",
   "metadata": {},
   "source": [
    "## Setup"
   ]
  },
  {
   "cell_type": "code",
   "execution_count": 34,
   "id": "406fbd55-d9f0-47ce-abe5-c908ec039667",
   "metadata": {},
   "outputs": [],
   "source": [
    "BASE_URL = \"https://www.lego.com\""
   ]
  },
  {
   "cell_type": "markdown",
   "id": "47f13738-d45a-4590-9f5b-807a78b64e09",
   "metadata": {},
   "source": [
    "## Scrape themes"
   ]
  },
  {
   "cell_type": "code",
   "execution_count": 35,
   "id": "b71f06c9-1b7a-47bb-bf88-7c20c1c7db30",
   "metadata": {},
   "outputs": [],
   "source": [
    "themes_url = \"/en-gb/themes\""
   ]
  },
  {
   "cell_type": "code",
   "execution_count": 36,
   "id": "880fded5-df86-412a-b6f4-4abf91e4f551",
   "metadata": {},
   "outputs": [],
   "source": [
    "response = req.get(BASE_URL + themes_url)"
   ]
  },
  {
   "cell_type": "code",
   "execution_count": 37,
   "id": "976f3a94-46c2-4583-98d2-90d66885c755",
   "metadata": {},
   "outputs": [],
   "source": [
    "soup = BeautifulSoup(response.content)  # Parse the HTML"
   ]
  },
  {
   "cell_type": "code",
   "execution_count": 38,
   "id": "904061a0-5332-4875-a767-ed684a9443a1",
   "metadata": {},
   "outputs": [],
   "source": [
    "articles = soup.find_all(\"article\")"
   ]
  },
  {
   "cell_type": "code",
   "execution_count": 39,
   "id": "7007ce26-1efe-4dd3-973c-f31d6a8329f8",
   "metadata": {},
   "outputs": [],
   "source": [
    "themes = []\n",
    "\n",
    "for article in articles:\n",
    "    data = {\n",
    "        \"name\": article.find(class_=\"hlipzx\").text,\n",
    "        \"url\": article.find(\"a\")[\"href\"]\n",
    "    }\n",
    "    \n",
    "    themes.append(data)"
   ]
  },
  {
   "cell_type": "markdown",
   "id": "d8d8033e-561f-4696-a21e-51aa7b76aa39",
   "metadata": {},
   "source": [
    "## Scrape sets"
   ]
  },
  {
   "cell_type": "code",
   "execution_count": 137,
   "id": "b2e68886-7755-4ed8-be35-e65a33851fce",
   "metadata": {},
   "outputs": [],
   "source": [
    "def parse_set(lego_set):\n",
    "    \n",
    "    title_block = lego_set.find(\"a\", attrs={ \"data-test\": True})\n",
    "    price_block = [x for x in lego_set.find_all(\"span\", attrs={ \"data-test\": True}) if x[\"data-test\"] == \"product-price\"][0]\n",
    "    rating_block = [x for x in lego_set.find_all(\"div\", attrs={ \"data-test\": True}) if x[\"data-test\"] == \"product-leaf-rating\"][0].find(\"div\", attrs={\"title\" : True})\n",
    "    \n",
    "    data = {\n",
    "        \"title\": title_block.text,\n",
    "        \"url\": title_block[\"href\"],\n",
    "        \"price\" : price_block.contents[1],\n",
    "        \"rating\" : rating_block[\"title\"] if rating_block else None\n",
    "    }\n",
    "    \n",
    "    return data"
   ]
  },
  {
   "cell_type": "code",
   "execution_count": 138,
   "id": "75be73e8-bdcc-49ff-87e7-614d16646d69",
   "metadata": {},
   "outputs": [],
   "source": [
    "def get_sets(theme):\n",
    "    \n",
    "    sets = []\n",
    "    valid = True\n",
    "    page = 1\n",
    "    \n",
    "    while valid:\n",
    "        \n",
    "        # Load the next page\n",
    "        \n",
    "        page_url = f\"{BASE_URL}{theme['url']}?page={page}\"\n",
    "        res = req.get(page_url)\n",
    "        \n",
    "        # Check that there's still a valid page\n",
    "        \n",
    "        valid = res.status_code == 200\n",
    "        \n",
    "        # Find all the sets\n",
    "        \n",
    "        soup = BeautifulSoup(res.content)\n",
    "        products = soup.find_all(\"div\", attrs={\"data-test\": True})\n",
    "        sets.extend([x for x in products if x[\"data-test\"] == \"product-leaf\"])\n",
    "        page += 1\n",
    "        sleep(1)\n",
    "    \n",
    "    sets = [{**parse_set(s), \"theme\": theme[\"name\"]} for s in sets]\n",
    "    \n",
    "    return sets"
   ]
  },
  {
   "cell_type": "markdown",
   "id": "7fbd1e5c-039c-4c5f-8e2e-7ea3125b5a63",
   "metadata": {},
   "source": [
    "### Scrape sets by theme"
   ]
  },
  {
   "cell_type": "code",
   "execution_count": 139,
   "id": "d810e8db-dfd4-4f34-b9a3-bff6d19770f6",
   "metadata": {},
   "outputs": [],
   "source": [
    "holder = []\n",
    "\n",
    "for theme in themes:\n",
    "    holder.extend(get_sets(theme))"
   ]
  },
  {
   "cell_type": "code",
   "execution_count": 140,
   "id": "b83be0f8-46d9-4e6a-82fd-5bc4b4e8fcca",
   "metadata": {},
   "outputs": [
    {
     "data": {
      "text/plain": [
       "1024"
      ]
     },
     "execution_count": 140,
     "metadata": {},
     "output_type": "execute_result"
    }
   ],
   "source": [
    "len(holder)"
   ]
  },
  {
   "cell_type": "markdown",
   "id": "67d95272-6827-4f6b-87ad-a781c75e8c7e",
   "metadata": {},
   "source": [
    "## Data export"
   ]
  },
  {
   "cell_type": "code",
   "execution_count": 142,
   "id": "e4e0ad21-8518-4104-ab0b-42dc54e95b0d",
   "metadata": {},
   "outputs": [],
   "source": [
    "lego_sets = pd.DataFrame(holder)"
   ]
  },
  {
   "cell_type": "code",
   "execution_count": 143,
   "id": "6948426a-c563-453d-9f50-0b0159405117",
   "metadata": {},
   "outputs": [
    {
     "data": {
      "text/html": [
       "<div>\n",
       "<style scoped>\n",
       "    .dataframe tbody tr th:only-of-type {\n",
       "        vertical-align: middle;\n",
       "    }\n",
       "\n",
       "    .dataframe tbody tr th {\n",
       "        vertical-align: top;\n",
       "    }\n",
       "\n",
       "    .dataframe thead th {\n",
       "        text-align: right;\n",
       "    }\n",
       "</style>\n",
       "<table border=\"1\" class=\"dataframe\">\n",
       "  <thead>\n",
       "    <tr style=\"text-align: right;\">\n",
       "      <th></th>\n",
       "      <th>title</th>\n",
       "      <th>url</th>\n",
       "      <th>price</th>\n",
       "      <th>rating</th>\n",
       "      <th>theme</th>\n",
       "    </tr>\n",
       "  </thead>\n",
       "  <tbody>\n",
       "    <tr>\n",
       "      <th>0</th>\n",
       "      <td>Taj Mahal</td>\n",
       "      <td>/en-gb/product/taj-mahal-21056</td>\n",
       "      <td>£104.99</td>\n",
       "      <td>4.7</td>\n",
       "      <td>Architecture</td>\n",
       "    </tr>\n",
       "    <tr>\n",
       "      <th>1</th>\n",
       "      <td>Statue of Liberty</td>\n",
       "      <td>/en-gb/product/statue-of-liberty-21042</td>\n",
       "      <td>£89.99</td>\n",
       "      <td>4.6</td>\n",
       "      <td>Architecture</td>\n",
       "    </tr>\n",
       "    <tr>\n",
       "      <th>2</th>\n",
       "      <td>The White House</td>\n",
       "      <td>/en-gb/product/the-white-house-21054</td>\n",
       "      <td>£89.99</td>\n",
       "      <td>4.8</td>\n",
       "      <td>Architecture</td>\n",
       "    </tr>\n",
       "    <tr>\n",
       "      <th>3</th>\n",
       "      <td>Singapore</td>\n",
       "      <td>/en-gb/product/singapore-21057</td>\n",
       "      <td>£54.99</td>\n",
       "      <td>4.6</td>\n",
       "      <td>Architecture</td>\n",
       "    </tr>\n",
       "    <tr>\n",
       "      <th>4</th>\n",
       "      <td>Tokyo</td>\n",
       "      <td>/en-gb/product/tokyo-21051</td>\n",
       "      <td>£54.99</td>\n",
       "      <td>4.4</td>\n",
       "      <td>Architecture</td>\n",
       "    </tr>\n",
       "  </tbody>\n",
       "</table>\n",
       "</div>"
      ],
      "text/plain": [
       "               title                                     url    price rating  \\\n",
       "0          Taj Mahal          /en-gb/product/taj-mahal-21056  £104.99    4.7   \n",
       "1  Statue of Liberty  /en-gb/product/statue-of-liberty-21042   £89.99    4.6   \n",
       "2    The White House    /en-gb/product/the-white-house-21054   £89.99    4.8   \n",
       "3          Singapore          /en-gb/product/singapore-21057   £54.99    4.6   \n",
       "4              Tokyo              /en-gb/product/tokyo-21051   £54.99    4.4   \n",
       "\n",
       "          theme  \n",
       "0  Architecture  \n",
       "1  Architecture  \n",
       "2  Architecture  \n",
       "3  Architecture  \n",
       "4  Architecture  "
      ]
     },
     "execution_count": 143,
     "metadata": {},
     "output_type": "execute_result"
    }
   ],
   "source": [
    "lego_sets.head()"
   ]
  },
  {
   "cell_type": "code",
   "execution_count": 145,
   "id": "3dc1f258-a560-4b4b-b42b-2d81d9c304a4",
   "metadata": {},
   "outputs": [],
   "source": [
    "lego_sets.to_csv(\"./output/lego.csv\", index=False)"
   ]
  }
 ],
 "metadata": {
  "kernelspec": {
   "display_name": "scraping-start-WgqiHyey",
   "language": "python",
   "name": "scraping-start-wgqihyey"
  },
  "language_info": {
   "codemirror_mode": {
    "name": "ipython",
    "version": 3
   },
   "file_extension": ".py",
   "mimetype": "text/x-python",
   "name": "python",
   "nbconvert_exporter": "python",
   "pygments_lexer": "ipython3",
   "version": "3.10.3"
  }
 },
 "nbformat": 4,
 "nbformat_minor": 5
}
