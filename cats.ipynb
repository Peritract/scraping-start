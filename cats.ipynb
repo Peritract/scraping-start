{
 "cells": [
  {
   "cell_type": "markdown",
   "id": "98527962-b0a7-4529-aa8f-9e2e27d41fc4",
   "metadata": {},
   "source": [
    "# Cats\n",
    "\n",
    "## Imports"
   ]
  },
  {
   "cell_type": "code",
   "execution_count": 1,
   "id": "9c698f88-6d79-4726-b6e8-f453c73a7129",
   "metadata": {},
   "outputs": [],
   "source": [
    "import requests as req\n",
    "import pandas as pd"
   ]
  },
  {
   "cell_type": "markdown",
   "id": "728588be-bc3e-41e9-8962-ce4ab341704e",
   "metadata": {},
   "source": [
    "## Data sourcing"
   ]
  },
  {
   "cell_type": "code",
   "execution_count": 6,
   "id": "eaa5282e-105e-4140-8266-a58cb2ec7cb9",
   "metadata": {},
   "outputs": [],
   "source": [
    "url = \"https://www.battersea.org.uk/api/animals/cats\""
   ]
  },
  {
   "cell_type": "code",
   "execution_count": 7,
   "id": "2f4225d3-bad4-472b-9d80-2f57d76e947b",
   "metadata": {},
   "outputs": [],
   "source": [
    "res = req.get(url)"
   ]
  },
  {
   "cell_type": "code",
   "execution_count": 11,
   "id": "81b21cb5-dcfb-4c3d-851c-6809782a57d7",
   "metadata": {},
   "outputs": [],
   "source": [
    "data = res.json()"
   ]
  },
  {
   "cell_type": "code",
   "execution_count": 15,
   "id": "209a4c6d-041b-4762-af8d-813fe80c24ca",
   "metadata": {},
   "outputs": [],
   "source": [
    "cats = pd.DataFrame(data[\"animals\"])"
   ]
  },
  {
   "cell_type": "code",
   "execution_count": 16,
   "id": "01ab4a17-26fc-46e2-a496-d564faf2086c",
   "metadata": {},
   "outputs": [
    {
     "data": {
      "text/html": [
       "<div>\n",
       "<style scoped>\n",
       "    .dataframe tbody tr th:only-of-type {\n",
       "        vertical-align: middle;\n",
       "    }\n",
       "\n",
       "    .dataframe tbody tr th {\n",
       "        vertical-align: top;\n",
       "    }\n",
       "\n",
       "    .dataframe thead th {\n",
       "        text-align: right;\n",
       "    }\n",
       "</style>\n",
       "<table border=\"1\" class=\"dataframe\">\n",
       "  <thead>\n",
       "    <tr style=\"text-align: right;\">\n",
       "      <th></th>\n",
       "      <th>title</th>\n",
       "      <th>field_animal_thumbnail</th>\n",
       "      <th>field_animal_age</th>\n",
       "      <th>field_animal_centre</th>\n",
       "      <th>nid</th>\n",
       "      <th>field_animal_date_published</th>\n",
       "      <th>field_animal_size</th>\n",
       "      <th>field_animal_breed</th>\n",
       "      <th>field_animal_sex</th>\n",
       "      <th>field_animal_child_suitability</th>\n",
       "      <th>field_animal_cat_suitability</th>\n",
       "      <th>field_animal_dog_suitability</th>\n",
       "      <th>path</th>\n",
       "      <th>field_animal_reserved</th>\n",
       "      <th>field_animal_rehomed</th>\n",
       "      <th>flagged</th>\n",
       "      <th>sort</th>\n",
       "    </tr>\n",
       "  </thead>\n",
       "  <tbody>\n",
       "    <tr>\n",
       "      <th>51</th>\n",
       "      <td>TEDDY</td>\n",
       "      <td>https://www.battersea.org.uk/sites/default/fil...</td>\n",
       "      <td>2020-03-01</td>\n",
       "      <td>battersea</td>\n",
       "      <td>7315661</td>\n",
       "      <td>2022-05-08</td>\n",
       "      <td>medium</td>\n",
       "      <td>domestic short-hair</td>\n",
       "      <td>Male</td>\n",
       "      <td>C - Can live with 13-16</td>\n",
       "      <td>B - Not To Live With</td>\n",
       "      <td>B - Prefer To Live Alone</td>\n",
       "      <td>/cats/teddy</td>\n",
       "      <td>Reserved</td>\n",
       "      <td></td>\n",
       "      <td>0</td>\n",
       "      <td>1</td>\n",
       "    </tr>\n",
       "  </tbody>\n",
       "</table>\n",
       "</div>"
      ],
      "text/plain": [
       "    title                             field_animal_thumbnail field_animal_age  \\\n",
       "51  TEDDY  https://www.battersea.org.uk/sites/default/fil...       2020-03-01   \n",
       "\n",
       "   field_animal_centre      nid field_animal_date_published field_animal_size  \\\n",
       "51           battersea  7315661                  2022-05-08            medium   \n",
       "\n",
       "     field_animal_breed field_animal_sex field_animal_child_suitability  \\\n",
       "51  domestic short-hair             Male        C - Can live with 13-16   \n",
       "\n",
       "   field_animal_cat_suitability field_animal_dog_suitability         path  \\\n",
       "51         B - Not To Live With     B - Prefer To Live Alone  /cats/teddy   \n",
       "\n",
       "   field_animal_reserved field_animal_rehomed  flagged sort  \n",
       "51              Reserved                             0    1  "
      ]
     },
     "execution_count": 16,
     "metadata": {},
     "output_type": "execute_result"
    }
   ],
   "source": [
    "cats.sample()"
   ]
  },
  {
   "cell_type": "markdown",
   "id": "fcbb39f4-a63f-44f0-89f4-748ef30109fa",
   "metadata": {},
   "source": [
    "## Export"
   ]
  },
  {
   "cell_type": "code",
   "execution_count": 17,
   "id": "c87fe5cb-bfed-496d-8828-94d864546d5a",
   "metadata": {},
   "outputs": [],
   "source": [
    "cats.to_csv(\"./output/cats.csv\", index=False)"
   ]
  },
  {
   "cell_type": "code",
   "execution_count": null,
   "id": "ea0c8ac0-6333-4db7-b063-84c16bddebe1",
   "metadata": {},
   "outputs": [],
   "source": []
  }
 ],
 "metadata": {
  "kernelspec": {
   "display_name": "scraping-start-WgqiHyey",
   "language": "python",
   "name": "scraping-start-wgqihyey"
  },
  "language_info": {
   "codemirror_mode": {
    "name": "ipython",
    "version": 3
   },
   "file_extension": ".py",
   "mimetype": "text/x-python",
   "name": "python",
   "nbconvert_exporter": "python",
   "pygments_lexer": "ipython3",
   "version": "3.10.3"
  }
 },
 "nbformat": 4,
 "nbformat_minor": 5
}
