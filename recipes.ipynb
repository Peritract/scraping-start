{
 "cells": [
  {
   "cell_type": "markdown",
   "id": "430781fd-5b8e-4ac0-9cbb-1c8b009ef554",
   "metadata": {},
   "source": [
    "# Recipes\n",
    "\n",
    "## Imports"
   ]
  },
  {
   "cell_type": "code",
   "execution_count": 61,
   "id": "cb7bf9a0-7e76-4e9b-9aff-8040cb1381f3",
   "metadata": {},
   "outputs": [],
   "source": [
    "import requests as req\n",
    "from bs4 import BeautifulSoup\n",
    "from time import sleep"
   ]
  },
  {
   "cell_type": "markdown",
   "id": "b40d61a5-78c7-4c21-a063-f2755a86eb66",
   "metadata": {},
   "source": [
    "## Setup"
   ]
  },
  {
   "cell_type": "code",
   "execution_count": 45,
   "id": "5ecbda73-8d10-4a17-9503-ec19146e0bcb",
   "metadata": {},
   "outputs": [],
   "source": [
    "BASE_URL = \"https://www.jamieoliver.com\""
   ]
  },
  {
   "cell_type": "markdown",
   "id": "9569f9a8-e6f1-446e-972d-5aa0086b61d1",
   "metadata": {},
   "source": [
    "## Access the site"
   ]
  },
  {
   "cell_type": "code",
   "execution_count": 46,
   "id": "a1c3b545-c991-4eda-8559-f706d0b05f47",
   "metadata": {},
   "outputs": [],
   "source": [
    "res = req.get(BASE_URL + \"/recipes/pasta-recipes/\")"
   ]
  },
  {
   "cell_type": "code",
   "execution_count": 47,
   "id": "6197f533-d60e-4434-b40d-a5e2bb800fbc",
   "metadata": {},
   "outputs": [
    {
     "data": {
      "text/plain": [
       "200"
      ]
     },
     "execution_count": 47,
     "metadata": {},
     "output_type": "execute_result"
    }
   ],
   "source": [
    "res.status_code"
   ]
  },
  {
   "cell_type": "markdown",
   "id": "bdf4c21b-543b-4360-aa45-17fc92b0570d",
   "metadata": {},
   "source": [
    "## Parse the data"
   ]
  },
  {
   "cell_type": "code",
   "execution_count": 48,
   "id": "d2c69495-9269-4dd5-845b-2ceecbaa15d9",
   "metadata": {},
   "outputs": [],
   "source": [
    "soup = BeautifulSoup(res.content)"
   ]
  },
  {
   "cell_type": "code",
   "execution_count": 49,
   "id": "839c53f9-ce38-4dec-b7b1-24473e801e1a",
   "metadata": {},
   "outputs": [],
   "source": [
    "# Get one recipe block\n",
    "\n",
    "recipes = soup.find_all(\"div\", class_=\"recipe-block\")"
   ]
  },
  {
   "cell_type": "code",
   "execution_count": 50,
   "id": "f29e9d4e-9dae-475d-be8b-9aa5744326e5",
   "metadata": {},
   "outputs": [
    {
     "data": {
      "text/plain": [
       "{'title': \"Gennaro's classic spaghetti carbonara\",\n",
       " 'time': '10 minutes',\n",
       " 'difficulty': 'Super easy',\n",
       " 'url': '/recipes/pasta-recipes/gennaro-s-classic-spaghetti-carbonara/'}"
      ]
     },
     "execution_count": 50,
     "metadata": {},
     "output_type": "execute_result"
    }
   ],
   "source": [
    "def get_recipe_details(element):\n",
    "    \"\"\"Extracts recipe details from an HTML element\"\"\"\n",
    "    \n",
    "    return {\n",
    "        \"title\" : element.find(\"div\", class_=\"recipe-title\").get_text(),\n",
    "        \"time\": element.find(\"span\", class_=\"time\").get_text() if element.find(\"span\", class_=\"time\") else \"\",\n",
    "        \"difficulty\": element.find(\"span\", class_=\"difficulty\").get_text().strip(),\n",
    "        \"url\": element.find(\"a\")[\"href\"]\n",
    "    }\n",
    "\n",
    "get_recipe_details(example)"
   ]
  },
  {
   "cell_type": "code",
   "execution_count": 51,
   "id": "99ce5dd5-166f-471f-8ca4-2ecd426c8008",
   "metadata": {},
   "outputs": [],
   "source": [
    "# holder for recipe details\n",
    "\n",
    "holder = []\n",
    "\n",
    "for recipe in recipes:\n",
    "    \n",
    "    holder.append(get_recipe_details(recipe))"
   ]
  },
  {
   "cell_type": "markdown",
   "id": "24056a5c-5a72-4d27-be8d-d5d12d4aea57",
   "metadata": {},
   "source": [
    "## Going deeper"
   ]
  },
  {
   "cell_type": "code",
   "execution_count": 62,
   "id": "c377052b-7a6f-436f-bf67-9d78a2e26061",
   "metadata": {},
   "outputs": [
    {
     "data": {
      "text/plain": [
       "{'title': \"Gennaro's classic spaghetti carbonara\",\n",
       " 'time': '10 minutes',\n",
       " 'difficulty': 'Super easy',\n",
       " 'url': '/recipes/pasta-recipes/gennaro-s-classic-spaghetti-carbonara/',\n",
       " 'serves': '2'}"
      ]
     },
     "execution_count": 62,
     "metadata": {},
     "output_type": "execute_result"
    }
   ],
   "source": [
    "def get_full_recipe_details(recipe_data):\n",
    "    \n",
    "    res = req.get(BASE_URL + recipe_data[\"url\"])  # Get the raw response\n",
    "    \n",
    "    soup = BeautifulSoup(res.content)  # Parse the HTML data\n",
    "    \n",
    "    recipe_data[\"serves\"] = soup.find(\"div\", class_=\"serves\").contents[-1].strip()\n",
    "    \n",
    "    # Other info could be added\n",
    "    \n",
    "    sleep(0.5)\n",
    "    \n",
    "    return recipe_data\n",
    "\n",
    "get_full_recipe_details(holder[0])"
   ]
  },
  {
   "cell_type": "code",
   "execution_count": 63,
   "id": "c41563f2-028d-4c0c-bada-079d9b53a912",
   "metadata": {},
   "outputs": [],
   "source": [
    "final_recipes = [get_full_recipe_details(recipe) for recipe in holder]"
   ]
  },
  {
   "cell_type": "code",
   "execution_count": 64,
   "id": "157a93a1-641b-4675-b89f-2d6750b8b43d",
   "metadata": {},
   "outputs": [
    {
     "data": {
      "text/plain": [
       "160"
      ]
     },
     "execution_count": 64,
     "metadata": {},
     "output_type": "execute_result"
    }
   ],
   "source": [
    "len(final_recipes)"
   ]
  },
  {
   "cell_type": "code",
   "execution_count": null,
   "id": "c96c5694-b632-4fc8-b0b8-89996647ebf5",
   "metadata": {},
   "outputs": [],
   "source": []
  }
 ],
 "metadata": {
  "kernelspec": {
   "display_name": "scraping-start-WgqiHyey",
   "language": "python",
   "name": "scraping-start-wgqihyey"
  },
  "language_info": {
   "codemirror_mode": {
    "name": "ipython",
    "version": 3
   },
   "file_extension": ".py",
   "mimetype": "text/x-python",
   "name": "python",
   "nbconvert_exporter": "python",
   "pygments_lexer": "ipython3",
   "version": "3.10.3"
  }
 },
 "nbformat": 4,
 "nbformat_minor": 5
}
