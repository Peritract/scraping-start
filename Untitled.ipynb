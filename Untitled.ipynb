{
 "cells": [
  {
   "cell_type": "markdown",
   "id": "e35e34d3-bf99-4cad-bd19-0e1d4abc5e70",
   "metadata": {},
   "source": [
    "# Basic scraping\n",
    "\n",
    "## Imports"
   ]
  },
  {
   "cell_type": "code",
   "execution_count": 2,
   "id": "66536255-9256-4574-8794-513d449bbb4c",
   "metadata": {},
   "outputs": [],
   "source": [
    "import requests as req\n",
    "from bs4 import BeautifulSoup\n",
    "import pandas as pd"
   ]
  },
  {
   "cell_type": "markdown",
   "id": "47f13738-d45a-4590-9f5b-807a78b64e09",
   "metadata": {},
   "source": [
    "## Scrape themes"
   ]
  },
  {
   "cell_type": "code",
   "execution_count": 3,
   "id": "b71f06c9-1b7a-47bb-bf88-7c20c1c7db30",
   "metadata": {},
   "outputs": [],
   "source": [
    "url = \"https://www.lego.com/en-gb/themes\""
   ]
  },
  {
   "cell_type": "code",
   "execution_count": 4,
   "id": "880fded5-df86-412a-b6f4-4abf91e4f551",
   "metadata": {},
   "outputs": [],
   "source": [
    "response = req.get(url)"
   ]
  },
  {
   "cell_type": "code",
   "execution_count": 10,
   "id": "976f3a94-46c2-4583-98d2-90d66885c755",
   "metadata": {},
   "outputs": [],
   "source": [
    "soup = BeautifulSoup(response.content)"
   ]
  },
  {
   "cell_type": "code",
   "execution_count": 13,
   "id": "904061a0-5332-4875-a767-ed684a9443a1",
   "metadata": {},
   "outputs": [],
   "source": [
    "articles = soup.find_all(\"article\")"
   ]
  },
  {
   "cell_type": "code",
   "execution_count": 16,
   "id": "8dd90ca6-9816-4395-972c-12a02f7f268b",
   "metadata": {},
   "outputs": [],
   "source": [
    "articles = soup.find_all(class_=\"bHkpoW\")"
   ]
  },
  {
   "cell_type": "code",
   "execution_count": 17,
   "id": "5e12d192-b187-4f0c-889f-afff1ebe4e25",
   "metadata": {},
   "outputs": [
    {
     "data": {
      "text/plain": [
       "41"
      ]
     },
     "execution_count": 17,
     "metadata": {},
     "output_type": "execute_result"
    }
   ],
   "source": [
    "len(articles)"
   ]
  },
  {
   "cell_type": "code",
   "execution_count": 18,
   "id": "308a7f5c-4e93-4418-b819-c5a1f9ed1229",
   "metadata": {},
   "outputs": [
    {
     "data": {
      "text/plain": [
       "<article class=\"CategoryLeafstyles__Wrapper-is33yg-0 bHkpoW\"><a class=\"CategoryLeafstyles__ImagesLink-is33yg-4 fnHkNp\" href=\"/en-gb/themes/architecture\"><div class=\"CategoryLeafstyles__Images-is33yg-1 chmOWn\"><div class=\"LazyImagestyles__Container-sc-1gcjd00-0 ihBIqR\"><div class=\"LazyImagestyles__Placeholder-sc-1gcjd00-3 isKiCp\"></div></div><div class=\"CategoryLeafstyles__Logo-is33yg-2 CategoryLeafstyles__ThemesLogo-is33yg-3 hPLEgz\"><img alt=\"\" class=\"Imagestyles__Img-m2o9tb-0 jyexzd\" src=\"https://www.lego.com/cdn/cs/set/assets/bltb7608fce3c4e9282/architecture_logo_pos_100h.png?format=png&amp;height=35&amp;dpr=1\" srcset=\"https://www.lego.com/cdn/cs/set/assets/bltb7608fce3c4e9282/architecture_logo_pos_100h.png?format=png&amp;height=35&amp;dpr=1,\n",
       "https://www.lego.com/cdn/cs/set/assets/bltb7608fce3c4e9282/architecture_logo_pos_100h.png?format=png&amp;height=35&amp;dpr=1.5 1.5x,\n",
       "https://www.lego.com/cdn/cs/set/assets/bltb7608fce3c4e9282/architecture_logo_pos_100h.png?format=png&amp;height=35&amp;dpr=2 2x\"/></div></div></a><div class=\"CategoryLeafstyles__Details-is33yg-5 EOxwu\"><style data-styled=\"true\" data-styled-version=\"5.1.1\"></style><div class=\"CategoryLeafstyles__HeaderAlternate-is33yg-7 kNjbTr\"><h2 class=\"Text__BaseText-sc-178efqu-0 gFrusw CategoryLeafstyles__Title-is33yg-8 hQWAgn\"><span class=\"Markup__StyledMarkup-ar1l9g-0 hlipzx\">Architecture</span></h2></div><span class=\"Text__BaseText-sc-178efqu-0 gFrusw CategoryLeafstyles__DescriptionAlternate-is33yg-13 eEqaAo\"><span class=\"Markup__StyledMarkup-ar1l9g-0 hlipzx\">Explore the world without leaving your home. LEGO® Architecture sets give builders a chance to recreate stunning landmarks, iconic city skylines and famous historical buildings. These impressive sets are a wonderful gift for anyone interested in travel, history and design.</span></span><div class=\"CategoryLeafstyles__Footer-is33yg-15 hxJIDj\"><a class=\"CategoryLeafstyles__DetailsLink-is33yg-14 bnAWEx\" href=\"/en-gb/themes/architecture\">Shop Products<span class=\"Icon__Placeholder-lm07h6-2 cEjNYm\"></span></a><a class=\"CategoryLeafstyles__DetailsLink-is33yg-14 bnAWEx\" href=\"/en-gb/themes/architecture/about\">Learn more<span class=\"Icon__Placeholder-lm07h6-2 cEjNYm\"></span></a></div></div></article>"
      ]
     },
     "execution_count": 18,
     "metadata": {},
     "output_type": "execute_result"
    }
   ],
   "source": [
    "articles[0]"
   ]
  },
  {
   "cell_type": "code",
   "execution_count": 22,
   "id": "7007ce26-1efe-4dd3-973c-f31d6a8329f8",
   "metadata": {},
   "outputs": [],
   "source": [
    "themes = []\n",
    "\n",
    "for article in articles:\n",
    "    data = {\n",
    "        \"name\": article.find(class_=\"hlipzx\").text,\n",
    "        \"url\": article.find(\"a\")[\"href\"]\n",
    "    }\n",
    "    \n",
    "    themes.append(data)"
   ]
  },
  {
   "cell_type": "code",
   "execution_count": 23,
   "id": "933bc22a-4f32-4486-a928-9b30939416d4",
   "metadata": {},
   "outputs": [
    {
     "data": {
      "text/plain": [
       "{'name': 'Architecture', 'url': '/en-gb/themes/architecture'}"
      ]
     },
     "execution_count": 23,
     "metadata": {},
     "output_type": "execute_result"
    }
   ],
   "source": [
    "themes[0]"
   ]
  },
  {
   "cell_type": "code",
   "execution_count": null,
   "id": "42a62bea-73a2-4fa5-a1de-534e41fffa94",
   "metadata": {},
   "outputs": [],
   "source": []
  }
 ],
 "metadata": {
  "kernelspec": {
   "display_name": "scraping-start-WgqiHyey",
   "language": "python",
   "name": "scraping-start-wgqihyey"
  },
  "language_info": {
   "codemirror_mode": {
    "name": "ipython",
    "version": 3
   },
   "file_extension": ".py",
   "mimetype": "text/x-python",
   "name": "python",
   "nbconvert_exporter": "python",
   "pygments_lexer": "ipython3",
   "version": "3.10.3"
  }
 },
 "nbformat": 4,
 "nbformat_minor": 5
}
